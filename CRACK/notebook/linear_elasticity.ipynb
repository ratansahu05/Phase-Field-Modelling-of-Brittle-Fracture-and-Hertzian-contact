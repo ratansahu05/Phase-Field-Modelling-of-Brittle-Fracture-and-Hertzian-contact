{
 "cells": [
  {
   "cell_type": "markdown",
   "id": "3ad1ef0a",
   "metadata": {},
   "source": [
    "## mwe about dofs and "
   ]
  },
  {
   "cell_type": "code",
   "execution_count": 235,
   "id": "a5face3f",
   "metadata": {},
   "outputs": [],
   "source": [
    "import ufl\n",
    "from mpi4py import MPI\n",
    "from petsc4py import PETSc\n",
    "from petsc4py.PETSc import ScalarType\n",
    "#from petsc4py.PETSc import VectorType\n",
    "\n",
    "import dolfinx\n",
    "import numpy as np\n",
    "\n",
    "mesh = dolfinx.mesh.create_rectangle(MPI.COMM_WORLD,[[0,0],[1,1]], [10, 10])\n",
    "\n",
    "element = ufl.VectorElement('Lagrange',mesh.ufl_cell(),degree=1,dim=2)\n",
    "V = dolfinx.fem.FunctionSpace(mesh, element)\n",
    "\n",
    "def bottom(x):\n",
    "    return np.isclose(x[1], 0.0)\n",
    "\n",
    "V_y = V.sub(1).collapse()[0]\n",
    "\n",
    "blocked_dofs_bottom = dolfinx.fem.locate_dofs_geometrical((V.sub(1), V_y), bottom)\n",
    "\n",
    "zero_uy = dolfinx.fem.Function(V_y)\n",
    "\n",
    "with zero_uy.vector.localForm() as bc_local:\n",
    "    bc_local.set(0.0)"
   ]
  },
  {
   "cell_type": "markdown",
   "id": "2482f2b1",
   "metadata": {},
   "source": [
    "## method 1 using dofs"
   ]
  },
  {
   "cell_type": "code",
   "execution_count": 35,
   "id": "c6708a58",
   "metadata": {},
   "outputs": [],
   "source": [
    "# Import required libraries\n",
    "import matplotlib.pyplot as plt\n",
    "import numpy as np\n",
    "from dolfinx import *\n",
    "from ufl import *\n",
    "from mpi4py import *\n",
    "from petsc4py import *\n",
    "\n",
    "from dolfinx.fem import *\n",
    "from dolfinx.fem.petsc import *\n",
    "from dolfinx.mesh import *\n",
    "from petsc4py.PETSc import *\n",
    "\n",
    "plt.rcParams[\"figure.figsize\"] = (40,6)"
   ]
  },
  {
   "cell_type": "code",
   "execution_count": 46,
   "id": "7c3c7054",
   "metadata": {},
   "outputs": [
    {
     "name": "stdout",
     "output_type": "stream",
     "text": [
      "\n",
      "dict_keys(['tetra'])\n"
     ]
    }
   ],
   "source": [
    "import meshio\n",
    "from dolfinx import io\n",
    "from mpi4py import MPI\n",
    "\n",
    "def create_mesh(mesh, cell_type, prune_z=False):\n",
    "    cells = mesh.get_cells_type(cell_type)\n",
    "    points = mesh.points[:,:2] if prune_z else mesh.points\n",
    "    out_mesh = meshio.Mesh(points=points, cells={cell_type: cells})\n",
    "    return out_mesh\n",
    "\n",
    "meshy = meshio.read(\"/mnt/d/Research Projects/FEniCS/crack/3d.msh\")\n",
    "print(meshy.cells_dict.keys())\n",
    "\n",
    "meshio.write(\"t3d.xdmf\", create_mesh(meshy, \"tetra\", False))\n",
    "\n",
    "# Define parameters\n",
    "meshfile = \"t3d.xdmf\"\n",
    "\n",
    "# Read the mesh\n",
    "with io.XDMFFile(MPI.COMM_WORLD, meshfile, \"r\") as file:\n",
    "    mesh = file.read_mesh(name='Grid')"
   ]
  },
  {
   "cell_type": "code",
   "execution_count": 37,
   "id": "af3fba86",
   "metadata": {},
   "outputs": [],
   "source": [
    "# # import gmsh mesh using meshio\n",
    "# import meshio\n",
    "# from dolfinx import io\n",
    "# from mpi4py import MPI\n",
    "\n",
    "# def create_mesh(mesh, cell_type, prune_z=False):\n",
    "#     cells = mesh.get_cells_type(cell_type)\n",
    "#     points = mesh.points[:,:2] if prune_z else mesh.points\n",
    "#     out_mesh = meshio.Mesh(points=points, cells={cell_type: cells})\n",
    "#     return out_mesh\n",
    "\n",
    "# meshy = meshio.read(\"/mnt/d/Research Projects/FEniCS/crack/t4.msh\")\n",
    "# meshio.write(\"t4.xdmf\", create_mesh(meshy, \"triangle\", True))\n",
    "\n",
    "# # Define parameters\n",
    "# meshfile = \"t4.xdmf\"\n",
    "\n",
    "# # Read the mesh\n",
    "# with io.XDMFFile(MPI.COMM_WORLD, meshfile, \"r\") as file:\n",
    "#     mesh = file.read_mesh(name='Grid')"
   ]
  },
  {
   "cell_type": "code",
   "execution_count": 38,
   "id": "6bc82787",
   "metadata": {},
   "outputs": [],
   "source": [
    "# mesh = mesh.create_rectangle(MPI.COMM_WORLD,[[0,0],[1,1]], [10, 10])"
   ]
  },
  {
   "cell_type": "code",
   "execution_count": 39,
   "id": "e051edf7",
   "metadata": {},
   "outputs": [],
   "source": [
    "element = VectorElement('CG',mesh.ufl_cell(),degree=1,dim=2)\n",
    "V = FunctionSpace(mesh, element)"
   ]
  },
  {
   "cell_type": "code",
   "execution_count": 40,
   "id": "954d1910",
   "metadata": {},
   "outputs": [],
   "source": [
    "def bottom_no_crack(x):\n",
    "    return np.logical_and(np.isclose(x[1], 0.0), x[0] > 0.3)\n",
    "\n",
    "def right(x):\n",
    "    return np.isclose(x[0], 1.)\n",
    "\n",
    "V_x = V.sub(0).collapse()[0]\n",
    "V_y = V.sub(1).collapse()[0]\n",
    "\n",
    "blocked_dofs_bottom = locate_dofs_geometrical((V.sub(1), V_y), bottom_no_crack)\n",
    "blocked_dofs_right = locate_dofs_geometrical((V.sub(0), V_x), right)"
   ]
  },
  {
   "cell_type": "code",
   "execution_count": 41,
   "id": "4bb6166f",
   "metadata": {},
   "outputs": [],
   "source": [
    "zero_uy = Function(V_y)\n",
    "with zero_uy.vector.localForm() as bc_local:\n",
    "    bc_local.set(0.0)\n",
    "\n",
    "zero_ux = fem.Function(V_x)\n",
    "with zero_ux.vector.localForm() as bc_local:\n",
    "    bc_local.set(0.0)\n",
    "      \n",
    "bc0 = fem.dirichletbc(zero_uy, blocked_dofs_bottom, V.sub(1))\n",
    "bc1 = fem.dirichletbc(zero_ux, blocked_dofs_right, V.sub(0))\n",
    "bcs = [bc0, bc1]"
   ]
  },
  {
   "cell_type": "code",
   "execution_count": 42,
   "id": "dddead6c",
   "metadata": {},
   "outputs": [],
   "source": [
    "from dolfinx.mesh import *\n",
    "\n",
    "dx = Measure(\"dx\",domain=mesh)\n",
    "top_facets = locate_entities_boundary(mesh, 1, lambda x : np.isclose(x[1], 1.))\n",
    "mt = meshtags(mesh, 1, top_facets, 1)\n",
    "ds = Measure(\"ds\", subdomain_data=mt)"
   ]
  },
  {
   "cell_type": "code",
   "execution_count": 43,
   "id": "c148f1b3",
   "metadata": {},
   "outputs": [],
   "source": [
    "from petsc4py.PETSc import *\n",
    "\n",
    "u = TrialFunction(V)\n",
    "v = TestFunction(V)\n",
    "\n",
    "E = 1. \n",
    "nu = 0.3 \n",
    "mu = E / (2.0 * (1.0 + nu))\n",
    "lmbda = E * nu / ((1.0 + nu) * (1.0 - 2.0 * nu))\n",
    "\n",
    "# this is for plane-stress\n",
    "# lmbda = 2*mu*lmbda/(lmbda+2*mu)\n",
    "\n",
    "def eps(u):\n",
    "    \"\"\"Strain\"\"\"\n",
    "    return 0.5*(nabla_grad(u) + nabla_grad(u).T)\n",
    "\n",
    "def sigma(u):\n",
    "    \"\"\"Stress\"\"\"\n",
    "    return lmbda * nabla_div(u) * Identity(len(u)) + 2*mu*eps(u)\n",
    "\n",
    "def a(u,v):\n",
    "    \"\"\"The bilinear form of the weak formulation\"\"\"\n",
    "    return inner(sigma(u), eps(v)) * dx \n",
    "\n",
    "def L(v): \n",
    "    \"\"\"The linear form of the weak formulation\"\"\"\n",
    "    # Volume force\n",
    "    b = fem.Constant(mesh,ScalarType((0,0,0)))\n",
    "\n",
    "    # Surface force on the top\n",
    "    f = fem.Constant(mesh,ScalarType((0,0.1,0)))\n",
    "    return dot(b, v) * dx + dot(f, v) * ds(1)"
   ]
  },
  {
   "cell_type": "code",
   "execution_count": 44,
   "id": "b4ba93b6",
   "metadata": {},
   "outputs": [
    {
     "name": "stdout",
     "output_type": "stream",
     "text": [
      "(2, 3)\n"
     ]
    }
   ],
   "source": [
    "print(grad(u).ufl_shape)"
   ]
  },
  {
   "cell_type": "code",
   "execution_count": 45,
   "id": "5edb04eb",
   "metadata": {},
   "outputs": [
    {
     "name": "stdout",
     "output_type": "stream",
     "text": [
      "Can't add expressions with different shapes.\n"
     ]
    },
    {
     "name": "stderr",
     "output_type": "stream",
     "text": [
      "ERROR:UFL:Can't add expressions with different shapes.\n"
     ]
    },
    {
     "ename": "UFLException",
     "evalue": "Can't add expressions with different shapes.",
     "output_type": "error",
     "traceback": [
      "\u001b[0;31m---------------------------------------------------------------------------\u001b[0m",
      "\u001b[0;31mUFLException\u001b[0m                              Traceback (most recent call last)",
      "\u001b[0;32m/tmp/ipykernel_331/2271029011.py\u001b[0m in \u001b[0;36m<module>\u001b[0;34m\u001b[0m\n\u001b[0;32m----> 1\u001b[0;31m \u001b[0mproblem\u001b[0m \u001b[0;34m=\u001b[0m \u001b[0mfem\u001b[0m\u001b[0;34m.\u001b[0m\u001b[0mpetsc\u001b[0m\u001b[0;34m.\u001b[0m\u001b[0mLinearProblem\u001b[0m\u001b[0;34m(\u001b[0m\u001b[0ma\u001b[0m\u001b[0;34m(\u001b[0m\u001b[0mu\u001b[0m\u001b[0;34m,\u001b[0m\u001b[0mv\u001b[0m\u001b[0;34m)\u001b[0m\u001b[0;34m,\u001b[0m \u001b[0mL\u001b[0m\u001b[0;34m(\u001b[0m\u001b[0mv\u001b[0m\u001b[0;34m)\u001b[0m\u001b[0;34m,\u001b[0m \u001b[0mbcs\u001b[0m\u001b[0;34m=\u001b[0m\u001b[0mbcs\u001b[0m\u001b[0;34m,\u001b[0m \u001b[0mpetsc_options\u001b[0m\u001b[0;34m=\u001b[0m\u001b[0;34m{\u001b[0m\u001b[0;34m\"ksp_type\"\u001b[0m\u001b[0;34m:\u001b[0m \u001b[0;34m\"preonly\"\u001b[0m\u001b[0;34m,\u001b[0m \u001b[0;34m\"pc_type\"\u001b[0m\u001b[0;34m:\u001b[0m \u001b[0;34m\"lu\"\u001b[0m\u001b[0;34m}\u001b[0m\u001b[0;34m)\u001b[0m\u001b[0;34m\u001b[0m\u001b[0;34m\u001b[0m\u001b[0m\n\u001b[0m\u001b[1;32m      2\u001b[0m \u001b[0muh\u001b[0m \u001b[0;34m=\u001b[0m \u001b[0mproblem\u001b[0m\u001b[0;34m.\u001b[0m\u001b[0msolve\u001b[0m\u001b[0;34m(\u001b[0m\u001b[0;34m)\u001b[0m\u001b[0;34m\u001b[0m\u001b[0;34m\u001b[0m\u001b[0m\n\u001b[1;32m      3\u001b[0m \u001b[0muh\u001b[0m\u001b[0;34m.\u001b[0m\u001b[0mname\u001b[0m \u001b[0;34m=\u001b[0m \u001b[0;34m\"Displacement\"\u001b[0m\u001b[0;34m\u001b[0m\u001b[0;34m\u001b[0m\u001b[0m\n",
      "\u001b[0;32m/tmp/ipykernel_331/173422487.py\u001b[0m in \u001b[0;36ma\u001b[0;34m(u, v)\u001b[0m\n\u001b[1;32m     22\u001b[0m \u001b[0;32mdef\u001b[0m \u001b[0ma\u001b[0m\u001b[0;34m(\u001b[0m\u001b[0mu\u001b[0m\u001b[0;34m,\u001b[0m\u001b[0mv\u001b[0m\u001b[0;34m)\u001b[0m\u001b[0;34m:\u001b[0m\u001b[0;34m\u001b[0m\u001b[0;34m\u001b[0m\u001b[0m\n\u001b[1;32m     23\u001b[0m     \u001b[0;34m\"\"\"The bilinear form of the weak formulation\"\"\"\u001b[0m\u001b[0;34m\u001b[0m\u001b[0;34m\u001b[0m\u001b[0m\n\u001b[0;32m---> 24\u001b[0;31m     \u001b[0;32mreturn\u001b[0m \u001b[0minner\u001b[0m\u001b[0;34m(\u001b[0m\u001b[0msigma\u001b[0m\u001b[0;34m(\u001b[0m\u001b[0mu\u001b[0m\u001b[0;34m)\u001b[0m\u001b[0;34m,\u001b[0m \u001b[0meps\u001b[0m\u001b[0;34m(\u001b[0m\u001b[0mv\u001b[0m\u001b[0;34m)\u001b[0m\u001b[0;34m)\u001b[0m \u001b[0;34m*\u001b[0m \u001b[0mdx\u001b[0m\u001b[0;34m\u001b[0m\u001b[0;34m\u001b[0m\u001b[0m\n\u001b[0m\u001b[1;32m     25\u001b[0m \u001b[0;34m\u001b[0m\u001b[0m\n\u001b[1;32m     26\u001b[0m \u001b[0;32mdef\u001b[0m \u001b[0mL\u001b[0m\u001b[0;34m(\u001b[0m\u001b[0mv\u001b[0m\u001b[0;34m)\u001b[0m\u001b[0;34m:\u001b[0m\u001b[0;34m\u001b[0m\u001b[0;34m\u001b[0m\u001b[0m\n",
      "\u001b[0;32m/tmp/ipykernel_331/173422487.py\u001b[0m in \u001b[0;36msigma\u001b[0;34m(u)\u001b[0m\n\u001b[1;32m     18\u001b[0m \u001b[0;32mdef\u001b[0m \u001b[0msigma\u001b[0m\u001b[0;34m(\u001b[0m\u001b[0mu\u001b[0m\u001b[0;34m)\u001b[0m\u001b[0;34m:\u001b[0m\u001b[0;34m\u001b[0m\u001b[0;34m\u001b[0m\u001b[0m\n\u001b[1;32m     19\u001b[0m     \u001b[0;34m\"\"\"Stress\"\"\"\u001b[0m\u001b[0;34m\u001b[0m\u001b[0;34m\u001b[0m\u001b[0m\n\u001b[0;32m---> 20\u001b[0;31m     \u001b[0;32mreturn\u001b[0m \u001b[0mlmbda\u001b[0m \u001b[0;34m*\u001b[0m \u001b[0mnabla_div\u001b[0m\u001b[0;34m(\u001b[0m\u001b[0mu\u001b[0m\u001b[0;34m)\u001b[0m \u001b[0;34m*\u001b[0m \u001b[0mIdentity\u001b[0m\u001b[0;34m(\u001b[0m\u001b[0mlen\u001b[0m\u001b[0;34m(\u001b[0m\u001b[0mu\u001b[0m\u001b[0;34m)\u001b[0m\u001b[0;34m)\u001b[0m \u001b[0;34m+\u001b[0m \u001b[0;36m2\u001b[0m\u001b[0;34m*\u001b[0m\u001b[0mmu\u001b[0m\u001b[0;34m*\u001b[0m\u001b[0meps\u001b[0m\u001b[0;34m(\u001b[0m\u001b[0mu\u001b[0m\u001b[0;34m)\u001b[0m\u001b[0;34m\u001b[0m\u001b[0;34m\u001b[0m\u001b[0m\n\u001b[0m\u001b[1;32m     21\u001b[0m \u001b[0;34m\u001b[0m\u001b[0m\n\u001b[1;32m     22\u001b[0m \u001b[0;32mdef\u001b[0m \u001b[0ma\u001b[0m\u001b[0;34m(\u001b[0m\u001b[0mu\u001b[0m\u001b[0;34m,\u001b[0m\u001b[0mv\u001b[0m\u001b[0;34m)\u001b[0m\u001b[0;34m:\u001b[0m\u001b[0;34m\u001b[0m\u001b[0;34m\u001b[0m\u001b[0m\n",
      "\u001b[0;32m/tmp/ipykernel_331/173422487.py\u001b[0m in \u001b[0;36meps\u001b[0;34m(u)\u001b[0m\n\u001b[1;32m     14\u001b[0m \u001b[0;32mdef\u001b[0m \u001b[0meps\u001b[0m\u001b[0;34m(\u001b[0m\u001b[0mu\u001b[0m\u001b[0;34m)\u001b[0m\u001b[0;34m:\u001b[0m\u001b[0;34m\u001b[0m\u001b[0;34m\u001b[0m\u001b[0m\n\u001b[1;32m     15\u001b[0m     \u001b[0;34m\"\"\"Strain\"\"\"\u001b[0m\u001b[0;34m\u001b[0m\u001b[0;34m\u001b[0m\u001b[0m\n\u001b[0;32m---> 16\u001b[0;31m     \u001b[0;32mreturn\u001b[0m \u001b[0;36m0.5\u001b[0m\u001b[0;34m*\u001b[0m\u001b[0;34m(\u001b[0m\u001b[0mnabla_grad\u001b[0m\u001b[0;34m(\u001b[0m\u001b[0mu\u001b[0m\u001b[0;34m)\u001b[0m \u001b[0;34m+\u001b[0m \u001b[0mnabla_grad\u001b[0m\u001b[0;34m(\u001b[0m\u001b[0mu\u001b[0m\u001b[0;34m)\u001b[0m\u001b[0;34m.\u001b[0m\u001b[0mT\u001b[0m\u001b[0;34m)\u001b[0m\u001b[0;34m\u001b[0m\u001b[0;34m\u001b[0m\u001b[0m\n\u001b[0m\u001b[1;32m     17\u001b[0m \u001b[0;34m\u001b[0m\u001b[0m\n\u001b[1;32m     18\u001b[0m \u001b[0;32mdef\u001b[0m \u001b[0msigma\u001b[0m\u001b[0;34m(\u001b[0m\u001b[0mu\u001b[0m\u001b[0;34m)\u001b[0m\u001b[0;34m:\u001b[0m\u001b[0;34m\u001b[0m\u001b[0;34m\u001b[0m\u001b[0m\n",
      "\u001b[0;32m/usr/lib/python3/dist-packages/ufl/exproperators.py\u001b[0m in \u001b[0;36m_add\u001b[0;34m(self, o)\u001b[0m\n\u001b[1;32m    199\u001b[0m     \u001b[0;32mif\u001b[0m \u001b[0;32mnot\u001b[0m \u001b[0misinstance\u001b[0m\u001b[0;34m(\u001b[0m\u001b[0mo\u001b[0m\u001b[0;34m,\u001b[0m \u001b[0m_valid_types\u001b[0m\u001b[0;34m)\u001b[0m\u001b[0;34m:\u001b[0m\u001b[0;34m\u001b[0m\u001b[0;34m\u001b[0m\u001b[0m\n\u001b[1;32m    200\u001b[0m         \u001b[0;32mreturn\u001b[0m \u001b[0mNotImplemented\u001b[0m\u001b[0;34m\u001b[0m\u001b[0;34m\u001b[0m\u001b[0m\n\u001b[0;32m--> 201\u001b[0;31m     \u001b[0;32mreturn\u001b[0m \u001b[0mSum\u001b[0m\u001b[0;34m(\u001b[0m\u001b[0mself\u001b[0m\u001b[0;34m,\u001b[0m \u001b[0mo\u001b[0m\u001b[0;34m)\u001b[0m\u001b[0;34m\u001b[0m\u001b[0;34m\u001b[0m\u001b[0m\n\u001b[0m\u001b[1;32m    202\u001b[0m \u001b[0;34m\u001b[0m\u001b[0m\n\u001b[1;32m    203\u001b[0m \u001b[0;34m\u001b[0m\u001b[0m\n",
      "\u001b[0;32m/usr/lib/python3/dist-packages/ufl/algebra.py\u001b[0m in \u001b[0;36m__new__\u001b[0;34m(cls, a, b)\u001b[0m\n\u001b[1;32m     39\u001b[0m         \u001b[0mfid\u001b[0m \u001b[0;34m=\u001b[0m \u001b[0ma\u001b[0m\u001b[0;34m.\u001b[0m\u001b[0mufl_index_dimensions\u001b[0m\u001b[0;34m\u001b[0m\u001b[0;34m\u001b[0m\u001b[0m\n\u001b[1;32m     40\u001b[0m         \u001b[0;32mif\u001b[0m \u001b[0mb\u001b[0m\u001b[0;34m.\u001b[0m\u001b[0mufl_shape\u001b[0m \u001b[0;34m!=\u001b[0m \u001b[0msh\u001b[0m\u001b[0;34m:\u001b[0m\u001b[0;34m\u001b[0m\u001b[0;34m\u001b[0m\u001b[0m\n\u001b[0;32m---> 41\u001b[0;31m             \u001b[0merror\u001b[0m\u001b[0;34m(\u001b[0m\u001b[0;34m\"Can't add expressions with different shapes.\"\u001b[0m\u001b[0;34m)\u001b[0m\u001b[0;34m\u001b[0m\u001b[0;34m\u001b[0m\u001b[0m\n\u001b[0m\u001b[1;32m     42\u001b[0m         \u001b[0;32mif\u001b[0m \u001b[0mb\u001b[0m\u001b[0;34m.\u001b[0m\u001b[0mufl_free_indices\u001b[0m \u001b[0;34m!=\u001b[0m \u001b[0mfi\u001b[0m\u001b[0;34m:\u001b[0m\u001b[0;34m\u001b[0m\u001b[0;34m\u001b[0m\u001b[0m\n\u001b[1;32m     43\u001b[0m             \u001b[0merror\u001b[0m\u001b[0;34m(\u001b[0m\u001b[0;34m\"Can't add expressions with different free indices.\"\u001b[0m\u001b[0;34m)\u001b[0m\u001b[0;34m\u001b[0m\u001b[0;34m\u001b[0m\u001b[0m\n",
      "\u001b[0;32m/usr/lib/python3/dist-packages/ufl/log.py\u001b[0m in \u001b[0;36merror\u001b[0;34m(self, *message)\u001b[0m\n\u001b[1;32m    156\u001b[0m         \u001b[0;34m\"Write error message and raise an exception.\"\u001b[0m\u001b[0;34m\u001b[0m\u001b[0;34m\u001b[0m\u001b[0m\n\u001b[1;32m    157\u001b[0m         \u001b[0mself\u001b[0m\u001b[0;34m.\u001b[0m\u001b[0m_log\u001b[0m\u001b[0;34m.\u001b[0m\u001b[0merror\u001b[0m\u001b[0;34m(\u001b[0m\u001b[0;34m*\u001b[0m\u001b[0mmessage\u001b[0m\u001b[0;34m)\u001b[0m\u001b[0;34m\u001b[0m\u001b[0;34m\u001b[0m\u001b[0m\n\u001b[0;32m--> 158\u001b[0;31m         \u001b[0;32mraise\u001b[0m \u001b[0mself\u001b[0m\u001b[0;34m.\u001b[0m\u001b[0m_exception_type\u001b[0m\u001b[0;34m(\u001b[0m\u001b[0mself\u001b[0m\u001b[0;34m.\u001b[0m\u001b[0m_format_raw\u001b[0m\u001b[0;34m(\u001b[0m\u001b[0;34m*\u001b[0m\u001b[0mmessage\u001b[0m\u001b[0;34m)\u001b[0m\u001b[0;34m)\u001b[0m\u001b[0;34m\u001b[0m\u001b[0;34m\u001b[0m\u001b[0m\n\u001b[0m\u001b[1;32m    159\u001b[0m \u001b[0;34m\u001b[0m\u001b[0m\n\u001b[1;32m    160\u001b[0m     \u001b[0;32mdef\u001b[0m \u001b[0mbegin\u001b[0m\u001b[0;34m(\u001b[0m\u001b[0mself\u001b[0m\u001b[0;34m,\u001b[0m \u001b[0;34m*\u001b[0m\u001b[0mmessage\u001b[0m\u001b[0;34m)\u001b[0m\u001b[0;34m:\u001b[0m\u001b[0;34m\u001b[0m\u001b[0;34m\u001b[0m\u001b[0m\n",
      "\u001b[0;31mUFLException\u001b[0m: Can't add expressions with different shapes."
     ]
    }
   ],
   "source": [
    "problem = fem.petsc.LinearProblem(a(u,v), L(v), bcs=bcs, petsc_options={\"ksp_type\": \"preonly\", \"pc_type\": \"lu\"})\n",
    "uh = problem.solve()\n",
    "uh.name = \"Displacement\""
   ]
  },
  {
   "cell_type": "code",
   "execution_count": 12,
   "id": "72727978",
   "metadata": {},
   "outputs": [],
   "source": [
    "with io.XDMFFile(MPI.COMM_WORLD, \"disp.xdmf\", \"w\") as file:\n",
    "        file.write_mesh(uh.function_space.mesh)\n",
    "        file.write_function(uh)"
   ]
  },
  {
   "cell_type": "code",
   "execution_count": 13,
   "id": "5a70108b",
   "metadata": {},
   "outputs": [],
   "source": [
    "W=fem.TensorFunctionSpace(mesh,(\"DG\",0))\n",
    "sigma=fem.Function(W)\n",
    "sigma_exp= fem.Expression(lmbda * tr(eps(uh))* Identity(len(u))  + 2*mu*sym(grad(uh).T),W.element.interpolation_points())\n",
    "sigma.interpolate(sigma_exp)\n",
    "\n",
    "with io.XDMFFile(MPI.COMM_WORLD, \"stress.xdmf\", \"w\") as xdmf:\n",
    "    xdmf.write_mesh(mesh)\n",
    "    sigma.name = \"sigma\"\n",
    "    xdmf.write_function(sigma)"
   ]
  },
  {
   "cell_type": "code",
   "execution_count": 14,
   "id": "ad135be1",
   "metadata": {},
   "outputs": [],
   "source": [
    "s = lmbda * tr(eps(uh))* Identity(len(u))  + 2*mu*sym(grad(uh).T) - 1./3*tr(lmbda * tr(eps(uh))* Identity(len(u))  + 2*mu*sym(grad(uh).T))*Identity(len(uh))\n",
    "von_Mises = sqrt(3./2*inner(s, s))\n",
    "\n",
    "V_von_mises = fem.FunctionSpace(mesh, (\"DG\", 0))\n",
    "stress_expr = fem.Expression(von_Mises, V_von_mises.element.interpolation_points())\n",
    "stresses = fem.Function(V_von_mises)\n",
    "stresses.interpolate(stress_expr)\n",
    "\n",
    "with io.XDMFFile(MPI.COMM_WORLD, \"vonmises_stress.xdmf\", \"w\") as xdmf:\n",
    "    xdmf.write_mesh(mesh)\n",
    "    xdmf.write_function(stresses)"
   ]
  },
  {
   "cell_type": "code",
   "execution_count": 21,
   "id": "beac3bbb",
   "metadata": {},
   "outputs": [],
   "source": []
  }
 ],
 "metadata": {
  "kernelspec": {
   "display_name": "Python 3 (ipykernel)",
   "language": "python",
   "name": "python3"
  },
  "language_info": {
   "codemirror_mode": {
    "name": "ipython",
    "version": 3
   },
   "file_extension": ".py",
   "mimetype": "text/x-python",
   "name": "python",
   "nbconvert_exporter": "python",
   "pygments_lexer": "ipython3",
   "version": "3.10.6"
  }
 },
 "nbformat": 4,
 "nbformat_minor": 5
}
